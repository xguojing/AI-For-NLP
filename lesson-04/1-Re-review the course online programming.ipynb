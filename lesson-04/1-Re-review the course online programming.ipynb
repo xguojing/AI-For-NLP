{
 "cells": [
  {
   "cell_type": "markdown",
   "metadata": {},
   "source": [
    "## Python 中的装饰器"
   ]
  },
  {
   "cell_type": "markdown",
   "metadata": {},
   "source": [
    "装饰器本质上是一个Python函数，**它可以让其他函数在不需要做任何代码变动的前提下增加额外功能**，装饰器的返回值是一个函数对象。装饰器可以减少重复代码，抽离出与函数功能无关的代码并继续重用，减少重复工作。"
   ]
  },
  {
   "cell_type": "markdown",
   "metadata": {},
   "source": [
    "### 简单装饰器"
   ]
  },
  {
   "cell_type": "code",
   "execution_count": 1,
   "metadata": {},
   "outputs": [],
   "source": [
    "import time\n",
    "\n",
    "\n",
    "def call_time(func):\n",
    "    def _wrapper(arg):\n",
    "        start = time.time()\n",
    "        result = func(arg)\n",
    "        print('used time: {}'.format(time.time() - start))\n",
    "        return result\n",
    "\n",
    "    return _wrapper"
   ]
  },
  {
   "cell_type": "code",
   "execution_count": 2,
   "metadata": {},
   "outputs": [],
   "source": [
    "def func_1(n):\n",
    "    print(\"func_1 function is running...\")\n",
    "    for i in range(n):\n",
    "        time.sleep(0.01)"
   ]
  },
  {
   "cell_type": "code",
   "execution_count": 3,
   "metadata": {},
   "outputs": [
    {
     "name": "stdout",
     "output_type": "stream",
     "text": [
      "func_1 function is running...\n",
      "used time: 0.05299854278564453\n"
     ]
    }
   ],
   "source": [
    "func_1 = call_time(func_1)\n",
    "func_1(5)"
   ]
  },
  {
   "cell_type": "markdown",
   "metadata": {},
   "source": [
    "@ 符号的使用"
   ]
  },
  {
   "cell_type": "code",
   "execution_count": 4,
   "metadata": {},
   "outputs": [],
   "source": [
    "@call_time\n",
    "def func_2(n):\n",
    "    print(\"func_2 function is running...\")\n",
    "    for i in range(n):\n",
    "        time.sleep(0.01)"
   ]
  },
  {
   "cell_type": "code",
   "execution_count": 5,
   "metadata": {},
   "outputs": [
    {
     "name": "stdout",
     "output_type": "stream",
     "text": [
      "func_2 function is running...\n",
      "used time: 0.10700011253356934\n"
     ]
    }
   ],
   "source": [
    "func_2(10)"
   ]
  },
  {
   "cell_type": "markdown",
   "metadata": {},
   "source": [
    "修饰器提高了程序的可重复利用性和可读性"
   ]
  },
  {
   "cell_type": "markdown",
   "metadata": {},
   "source": [
    "### 带参数的修饰器"
   ]
  },
  {
   "cell_type": "markdown",
   "metadata": {},
   "source": [
    "装饰器的语法允许我们调用的时候提供其他参数"
   ]
  },
  {
   "cell_type": "code",
   "execution_count": 6,
   "metadata": {},
   "outputs": [],
   "source": [
    "import logging\n",
    "\n",
    "\n",
    "def use_logging(level):\n",
    "    def decorator(func):\n",
    "        def _wrapper(arg):\n",
    "            if level == 'warn':\n",
    "                logging.warn(\"warn logging\")\n",
    "            return func(arg)\n",
    "\n",
    "        return _wrapper\n",
    "\n",
    "    return decorator"
   ]
  },
  {
   "cell_type": "code",
   "execution_count": 7,
   "metadata": {},
   "outputs": [],
   "source": [
    "@use_logging(level='warn')\n",
    "def func_3(n):\n",
    "    print(n)\n",
    "    print(\"func_3 is running\")"
   ]
  },
  {
   "cell_type": "code",
   "execution_count": 8,
   "metadata": {},
   "outputs": [
    {
     "name": "stderr",
     "output_type": "stream",
     "text": [
      "D:\\Anaconda3\\lib\\site-packages\\ipykernel_launcher.py:8: DeprecationWarning: The 'warn' function is deprecated, use 'warning' instead\n",
      "  \n",
      "WARNING:root:warn logging\n"
     ]
    },
    {
     "name": "stdout",
     "output_type": "stream",
     "text": [
      "3\n",
      "func_3 is running\n"
     ]
    }
   ],
   "source": [
    "func_3(3)"
   ]
  },
  {
   "cell_type": "markdown",
   "metadata": {},
   "source": [
    "### functools.wraps"
   ]
  },
  {
   "cell_type": "markdown",
   "metadata": {},
   "source": [
    "使用装饰器极大地复用了代码，但是存在一个缺点：原函数的元信息不见了，比如函数的docstring, 参数列表等"
   ]
  },
  {
   "cell_type": "code",
   "execution_count": 9,
   "metadata": {},
   "outputs": [],
   "source": [
    "@call_time\n",
    "def func_4(n):\n",
    "    \"\"\"\n",
    "    @param n: is the number of customers\n",
    "    @return int: the customers value point\n",
    "    \"\"\"\n",
    "    for i in range(n):\n",
    "        print(n)\n",
    "        time.sleep(0.1)\n",
    "    return 0"
   ]
  },
  {
   "cell_type": "code",
   "execution_count": 10,
   "metadata": {},
   "outputs": [
    {
     "name": "stdout",
     "output_type": "stream",
     "text": [
      "3\n",
      "3\n",
      "3\n",
      "used time: 0.30301403999328613\n"
     ]
    },
    {
     "data": {
      "text/plain": [
       "0"
      ]
     },
     "execution_count": 10,
     "metadata": {},
     "output_type": "execute_result"
    }
   ],
   "source": [
    "func_4(3)"
   ]
  },
  {
   "cell_type": "code",
   "execution_count": 11,
   "metadata": {},
   "outputs": [
    {
     "name": "stdout",
     "output_type": "stream",
     "text": [
      "Help on function _wrapper in module __main__:\n",
      "\n",
      "_wrapper(arg)\n",
      "\n"
     ]
    }
   ],
   "source": [
    "help(func_4)"
   ]
  },
  {
   "cell_type": "markdown",
   "metadata": {},
   "source": [
    "函数被\\_wrapper取代了，它的元信息就变成了_wrapper函数的信息了"
   ]
  },
  {
   "cell_type": "code",
   "execution_count": 12,
   "metadata": {},
   "outputs": [
    {
     "name": "stdout",
     "output_type": "stream",
     "text": [
      "_wrapper\n"
     ]
    }
   ],
   "source": [
    "print(func_4.__name__)"
   ]
  },
  {
   "cell_type": "markdown",
   "metadata": {},
   "source": [
    "functools.wraps本身也是一个装饰器，它能把原函数的元信息拷贝到装饰器函数中，使得装饰器函数和原函数具有一样的信息"
   ]
  },
  {
   "cell_type": "code",
   "execution_count": 13,
   "metadata": {},
   "outputs": [],
   "source": [
    "from functools import wraps\n",
    "from collections import defaultdict\n",
    "\n",
    "function_called_time = defaultdict(int)\n",
    "\n",
    "\n",
    "def call_time_2(func):\n",
    "    @wraps(func)\n",
    "    def _wrapper(arg):\n",
    "        \"\"\"It's inner function\"\"\"\n",
    "        global function_called_time\n",
    "        function_called_time[func.__name__] += 1\n",
    "        result = func(arg)\n",
    "        print('function called time: {}'.format(\n",
    "            function_called_time[func.__name__]))\n",
    "        return result\n",
    "\n",
    "    return _wrapper"
   ]
  },
  {
   "cell_type": "code",
   "execution_count": 14,
   "metadata": {},
   "outputs": [],
   "source": [
    "@call_time_2\n",
    "def func_5(n):\n",
    "    \"\"\"\n",
    "    @param n: is the number of customers\n",
    "    @return int: the customers value point\n",
    "    \"\"\"\n",
    "    for i in range(n):\n",
    "        print(n)\n",
    "        time.sleep(0.1)\n",
    "    return 0"
   ]
  },
  {
   "cell_type": "code",
   "execution_count": 15,
   "metadata": {},
   "outputs": [
    {
     "name": "stdout",
     "output_type": "stream",
     "text": [
      "3\n",
      "3\n",
      "3\n",
      "function called time: 1\n"
     ]
    },
    {
     "data": {
      "text/plain": [
       "0"
      ]
     },
     "execution_count": 15,
     "metadata": {},
     "output_type": "execute_result"
    }
   ],
   "source": [
    "func_5(3)"
   ]
  },
  {
   "cell_type": "code",
   "execution_count": 16,
   "metadata": {},
   "outputs": [
    {
     "name": "stdout",
     "output_type": "stream",
     "text": [
      "Help on function func_5 in module __main__:\n",
      "\n",
      "func_5(n)\n",
      "    @param n: is the number of customers\n",
      "    @return int: the customers value point\n",
      "\n"
     ]
    }
   ],
   "source": [
    "help(func_5)"
   ]
  },
  {
   "cell_type": "markdown",
   "metadata": {},
   "source": [
    "### \\*args 和\\*\\*kwargs 两个魔法变量"
   ]
  },
  {
   "cell_type": "markdown",
   "metadata": {},
   "source": [
    "可以将不定数量的参数传递给一个函数。\n",
    "\n",
    "- \\*args = list of arguments - as positional arguments\n",
    "- \\*\\*kwargs = dictionary - whose keys become separate keyword arguments and the values become values of these arguments."
   ]
  },
  {
   "cell_type": "code",
   "execution_count": 17,
   "metadata": {},
   "outputs": [
    {
     "name": "stdout",
     "output_type": "stream",
     "text": [
      "first normal arg: yasoob\n",
      "another arg through *argv: python\n",
      "another arg through *argv: eggs\n",
      "another arg through *argv: test\n"
     ]
    }
   ],
   "source": [
    "def test_var_args(f_arg, *argv):\n",
    "    print(\"first normal arg:\", f_arg)\n",
    "    for arg in argv:\n",
    "        print(\"another arg through *argv:\", arg)\n",
    "\n",
    "test_var_args('yasoob', 'python', 'eggs', 'test')"
   ]
  },
  {
   "cell_type": "code",
   "execution_count": 18,
   "metadata": {},
   "outputs": [
    {
     "name": "stdout",
     "output_type": "stream",
     "text": [
      "first normal arg: yasoob\n",
      "another arg through *argv: eggs\n",
      "another arg through *argv: test\n"
     ]
    }
   ],
   "source": [
    "test_var_args('yasoob', 'eggs', 'test')"
   ]
  },
  {
   "cell_type": "code",
   "execution_count": 19,
   "metadata": {},
   "outputs": [],
   "source": [
    "def greet_me(**kwargs):\n",
    "    for key, value in kwargs.items():\n",
    "        print(\"{0} == {1}\".format(key, value))"
   ]
  },
  {
   "cell_type": "code",
   "execution_count": 20,
   "metadata": {},
   "outputs": [
    {
     "name": "stdout",
     "output_type": "stream",
     "text": [
      "name == python\n"
     ]
    }
   ],
   "source": [
    "greet_me(name=\"python\")"
   ]
  },
  {
   "cell_type": "code",
   "execution_count": 21,
   "metadata": {},
   "outputs": [
    {
     "name": "stdout",
     "output_type": "stream",
     "text": [
      "name == python\n",
      "age == 18\n"
     ]
    }
   ],
   "source": [
    "greet_me(name=\"python\", age=18)"
   ]
  },
  {
   "cell_type": "code",
   "execution_count": 22,
   "metadata": {},
   "outputs": [
    {
     "name": "stdout",
     "output_type": "stream",
     "text": [
      "arg3 == 3\n",
      "arg2 == two\n",
      "arg1 == 5\n"
     ]
    }
   ],
   "source": [
    "kwargs = {\"arg3\": 3, \"arg2\": \"two\", \"arg1\": 5}\n",
    "greet_me(**kwargs)"
   ]
  },
  {
   "cell_type": "markdown",
   "metadata": {},
   "source": [
    "## Dynamic Programming"
   ]
  },
  {
   "cell_type": "code",
   "execution_count": 23,
   "metadata": {},
   "outputs": [],
   "source": [
    "from collections import defaultdict"
   ]
  },
  {
   "cell_type": "code",
   "execution_count": 24,
   "metadata": {},
   "outputs": [],
   "source": [
    "original_price = [1, 5, 8, 9, 10, 17, 17, 20, 24, 30]\n",
    "price = defaultdict(int)\n",
    "for i, p in enumerate(original_price):\n",
    "    price[i + 1] = p\n",
    "assert price[1] == 1"
   ]
  },
  {
   "cell_type": "code",
   "execution_count": 25,
   "metadata": {},
   "outputs": [],
   "source": [
    "def memo(func):\n",
    "    cache = {}\n",
    "\n",
    "    @wraps(func)\n",
    "    def _wrap(n):\n",
    "        if n in cache:\n",
    "            result = cache[n]\n",
    "        else:\n",
    "            result = func(n)\n",
    "            cache[n] = result\n",
    "        return result\n",
    "\n",
    "    return _wrap"
   ]
  },
  {
   "cell_type": "code",
   "execution_count": 26,
   "metadata": {},
   "outputs": [],
   "source": [
    "solution = {}"
   ]
  },
  {
   "cell_type": "code",
   "execution_count": 27,
   "metadata": {},
   "outputs": [],
   "source": [
    "@memo\n",
    "def r(n):\n",
    "    max_price, split_point = max(\n",
    "        [(price[n], 0)] + [(r(i) + r(n - i), i) for i in range(1, n)],\n",
    "        key=lambda x: x[0])\n",
    "    solution[n] = (split_point, n - split_point)\n",
    "    return max_price"
   ]
  },
  {
   "cell_type": "code",
   "execution_count": 28,
   "metadata": {},
   "outputs": [
    {
     "data": {
      "text/plain": [
       "600"
      ]
     },
     "execution_count": 28,
     "metadata": {},
     "output_type": "execute_result"
    }
   ],
   "source": [
    "r(200)"
   ]
  },
  {
   "cell_type": "code",
   "execution_count": 29,
   "metadata": {},
   "outputs": [
    {
     "data": {
      "text/plain": [
       "(10, 10)"
      ]
     },
     "execution_count": 29,
     "metadata": {},
     "output_type": "execute_result"
    }
   ],
   "source": [
    "solution[20]"
   ]
  },
  {
   "cell_type": "markdown",
   "metadata": {},
   "source": [
    "### 对Solution进行解析"
   ]
  },
  {
   "cell_type": "code",
   "execution_count": 30,
   "metadata": {},
   "outputs": [],
   "source": [
    "def not_cut(split):\n",
    "    return split == 0\n",
    "\n",
    "\n",
    "def parse_solution(target_length, revenue_solution):\n",
    "    left, right = revenue_solution[target_length]\n",
    "    if not_cut(left):\n",
    "        return [right]\n",
    "    return parse_solution(left, revenue_solution) + parse_solution(\n",
    "        right, revenue_solution)"
   ]
  },
  {
   "cell_type": "code",
   "execution_count": 31,
   "metadata": {},
   "outputs": [
    {
     "data": {
      "text/plain": [
       "[2, 3, 10, 10]"
      ]
     },
     "execution_count": 31,
     "metadata": {},
     "output_type": "execute_result"
    }
   ],
   "source": [
    "parse_solution(25, solution)"
   ]
  },
  {
   "cell_type": "markdown",
   "metadata": {},
   "source": [
    "## Edit Distance"
   ]
  },
  {
   "cell_type": "markdown",
   "metadata": {},
   "source": [
    "是指两个字串之间，由一个转成另一个所需的最少编辑操作次数，如果它们的距离越大，说明它们越是不同。编辑操作只有三种**插入，删除，替换**"
   ]
  },
  {
   "cell_type": "code",
   "execution_count": 32,
   "metadata": {},
   "outputs": [],
   "source": [
    "solution = {}"
   ]
  },
  {
   "cell_type": "code",
   "execution_count": 33,
   "metadata": {},
   "outputs": [],
   "source": [
    "from functools import lru_cache\n",
    "\n",
    "\n",
    "@lru_cache(maxsize=2**10)\n",
    "def edit_distance(string1, string2):\n",
    "\n",
    "    if len(string1) == 0: return len(string2)\n",
    "    if len(string2) == 0: return len(string1)\n",
    "\n",
    "    tail_s1 = string1[-1]\n",
    "    tail_s2 = string2[-1]\n",
    "\n",
    "    condidates = [\n",
    "        (edit_distance(string1[:-1], string2) + 1, 'DEL {}'.format(tail_s1)),\n",
    "        (edit_distance(string1, string2[:-1]) + 1, 'ADD {}'.format(tail_s2)),\n",
    "    ]\n",
    "\n",
    "    if tail_s1 == tail_s2:\n",
    "        both_forward = (edit_distance(string1[:-1], string2[:-1]) + 0, '')\n",
    "    else:\n",
    "        both_forward = (edit_distance(string1[:-1], string2[:-1]) + 1,\n",
    "                        'SUB {} => {}'.format(tail_s1, tail_s2))\n",
    "    condidates.append(both_forward)\n",
    "\n",
    "    mindistance, operation = min(condidates, key=lambda x: x[0])\n",
    "    solution[(string1, string2)] = operation\n",
    "    return mindistance"
   ]
  },
  {
   "cell_type": "code",
   "execution_count": 34,
   "metadata": {},
   "outputs": [
    {
     "data": {
      "text/plain": [
       "2"
      ]
     },
     "execution_count": 34,
     "metadata": {},
     "output_type": "execute_result"
    }
   ],
   "source": [
    "edit_distance('ABCDE', 'ABCCEF')"
   ]
  },
  {
   "cell_type": "code",
   "execution_count": 35,
   "metadata": {
    "scrolled": true
   },
   "outputs": [
    {
     "data": {
      "text/plain": [
       "{('A', 'A'): '',\n",
       " ('A', 'AB'): 'ADD B',\n",
       " ('A', 'ABC'): 'ADD C',\n",
       " ('A', 'ABCC'): 'ADD C',\n",
       " ('A', 'ABCCE'): 'ADD E',\n",
       " ('A', 'ABCCEF'): 'ADD F',\n",
       " ('AB', 'A'): 'DEL B',\n",
       " ('AB', 'AB'): '',\n",
       " ('AB', 'ABC'): 'ADD C',\n",
       " ('AB', 'ABCC'): 'ADD C',\n",
       " ('AB', 'ABCCE'): 'ADD E',\n",
       " ('AB', 'ABCCEF'): 'ADD F',\n",
       " ('ABC', 'A'): 'DEL C',\n",
       " ('ABC', 'AB'): 'DEL C',\n",
       " ('ABC', 'ABC'): '',\n",
       " ('ABC', 'ABCC'): 'ADD C',\n",
       " ('ABC', 'ABCCE'): 'ADD E',\n",
       " ('ABC', 'ABCCEF'): 'ADD F',\n",
       " ('ABCD', 'A'): 'DEL D',\n",
       " ('ABCD', 'AB'): 'DEL D',\n",
       " ('ABCD', 'ABC'): 'DEL D',\n",
       " ('ABCD', 'ABCC'): 'SUB D => C',\n",
       " ('ABCD', 'ABCCE'): 'ADD E',\n",
       " ('ABCD', 'ABCCEF'): 'ADD F',\n",
       " ('ABCDE', 'A'): 'DEL E',\n",
       " ('ABCDE', 'AB'): 'DEL E',\n",
       " ('ABCDE', 'ABC'): 'DEL E',\n",
       " ('ABCDE', 'ABCC'): 'DEL E',\n",
       " ('ABCDE', 'ABCCE'): '',\n",
       " ('ABCDE', 'ABCCEF'): 'ADD F'}"
      ]
     },
     "execution_count": 35,
     "metadata": {},
     "output_type": "execute_result"
    }
   ],
   "source": [
    "solution"
   ]
  },
  {
   "cell_type": "markdown",
   "metadata": {},
   "source": [
    "### Parse Solution"
   ]
  },
  {
   "cell_type": "code",
   "execution_count": 36,
   "metadata": {},
   "outputs": [],
   "source": [
    "def edit(string, opreation):\n",
    "    if opreation == '':\n",
    "        return string[:-1]\n",
    "    elif opreation[:3] == 'ADD':\n",
    "        return string + opreation[-1]\n",
    "    elif opreation[:3] == 'DEL':\n",
    "        return string[-1]\n",
    "    elif opreation[:3] == 'SUB':\n",
    "        return string[-1] + opreation[-1]\n",
    "\n",
    "\n",
    "def not_edit(string1, string2):\n",
    "    return string1 == string2\n",
    "\n",
    "\n",
    "def parse_solution(string1, string2, revenue_solution):\n",
    "\n",
    "    if not_edit(string1, string2):\n",
    "        return []\n",
    "\n",
    "    opreation = revenue_solution.get((string1, string2))\n",
    "    new_string1 = edit(string1, opreation)\n",
    "\n",
    "    if new_string1 == string2:\n",
    "        return [opreation]\n",
    "\n",
    "    if opreation == '':\n",
    "        return parse_solution(string1[:-1], string2[:-1], revenue_solution)\n",
    "    elif opreation[:3] == 'ADD':\n",
    "        \n",
    "        return parse_solution(string1, string2[:-1], revenue_solution) + [opreation]\n",
    "    elif opreation[:3] == 'DEL':\n",
    "        return parse_solution(string1[:-1], string2, revenue_solution) + [opreation]\n",
    "    elif opreation[:3] == 'SUB':\n",
    "        return parse_solution(string1[:-1], string2[:-1], revenue_solution) + [opreation]"
   ]
  },
  {
   "cell_type": "code",
   "execution_count": 37,
   "metadata": {},
   "outputs": [
    {
     "data": {
      "text/plain": [
       "['SUB D => C', 'ADD F']"
      ]
     },
     "execution_count": 37,
     "metadata": {},
     "output_type": "execute_result"
    }
   ],
   "source": [
    "parse_solution('ABCDE', 'ABCCEF', solution)"
   ]
  },
  {
   "cell_type": "code",
   "execution_count": 38,
   "metadata": {},
   "outputs": [
    {
     "data": {
      "text/plain": [
       "9"
      ]
     },
     "execution_count": 38,
     "metadata": {},
     "output_type": "execute_result"
    }
   ],
   "source": [
    "edit_distance('怎么今天又熬夜了', '我真的不想熬夜啊啊啊啊')"
   ]
  },
  {
   "cell_type": "code",
   "execution_count": 39,
   "metadata": {},
   "outputs": [
    {
     "data": {
      "text/plain": [
       "{('A', 'A'): '',\n",
       " ('A', 'AB'): 'ADD B',\n",
       " ('A', 'ABC'): 'ADD C',\n",
       " ('A', 'ABCC'): 'ADD C',\n",
       " ('A', 'ABCCE'): 'ADD E',\n",
       " ('A', 'ABCCEF'): 'ADD F',\n",
       " ('AB', 'A'): 'DEL B',\n",
       " ('AB', 'AB'): '',\n",
       " ('AB', 'ABC'): 'ADD C',\n",
       " ('AB', 'ABCC'): 'ADD C',\n",
       " ('AB', 'ABCCE'): 'ADD E',\n",
       " ('AB', 'ABCCEF'): 'ADD F',\n",
       " ('ABC', 'A'): 'DEL C',\n",
       " ('ABC', 'AB'): 'DEL C',\n",
       " ('ABC', 'ABC'): '',\n",
       " ('ABC', 'ABCC'): 'ADD C',\n",
       " ('ABC', 'ABCCE'): 'ADD E',\n",
       " ('ABC', 'ABCCEF'): 'ADD F',\n",
       " ('ABCD', 'A'): 'DEL D',\n",
       " ('ABCD', 'AB'): 'DEL D',\n",
       " ('ABCD', 'ABC'): 'DEL D',\n",
       " ('ABCD', 'ABCC'): 'SUB D => C',\n",
       " ('ABCD', 'ABCCE'): 'ADD E',\n",
       " ('ABCD', 'ABCCEF'): 'ADD F',\n",
       " ('ABCDE', 'A'): 'DEL E',\n",
       " ('ABCDE', 'AB'): 'DEL E',\n",
       " ('ABCDE', 'ABC'): 'DEL E',\n",
       " ('ABCDE', 'ABCC'): 'DEL E',\n",
       " ('ABCDE', 'ABCCE'): '',\n",
       " ('ABCDE', 'ABCCEF'): 'ADD F',\n",
       " ('怎', '我'): 'SUB 怎 => 我',\n",
       " ('怎', '我真'): 'ADD 真',\n",
       " ('怎', '我真的'): 'ADD 的',\n",
       " ('怎', '我真的不'): 'ADD 不',\n",
       " ('怎', '我真的不想'): 'ADD 想',\n",
       " ('怎', '我真的不想熬'): 'ADD 熬',\n",
       " ('怎', '我真的不想熬夜'): 'ADD 夜',\n",
       " ('怎', '我真的不想熬夜啊'): 'ADD 啊',\n",
       " ('怎', '我真的不想熬夜啊啊'): 'ADD 啊',\n",
       " ('怎', '我真的不想熬夜啊啊啊'): 'ADD 啊',\n",
       " ('怎', '我真的不想熬夜啊啊啊啊'): 'ADD 啊',\n",
       " ('怎么', '我'): 'DEL 么',\n",
       " ('怎么', '我真'): 'SUB 么 => 真',\n",
       " ('怎么', '我真的'): 'ADD 的',\n",
       " ('怎么', '我真的不'): 'ADD 不',\n",
       " ('怎么', '我真的不想'): 'ADD 想',\n",
       " ('怎么', '我真的不想熬'): 'ADD 熬',\n",
       " ('怎么', '我真的不想熬夜'): 'ADD 夜',\n",
       " ('怎么', '我真的不想熬夜啊'): 'ADD 啊',\n",
       " ('怎么', '我真的不想熬夜啊啊'): 'ADD 啊',\n",
       " ('怎么', '我真的不想熬夜啊啊啊'): 'ADD 啊',\n",
       " ('怎么', '我真的不想熬夜啊啊啊啊'): 'ADD 啊',\n",
       " ('怎么今', '我'): 'DEL 今',\n",
       " ('怎么今', '我真'): 'DEL 今',\n",
       " ('怎么今', '我真的'): 'SUB 今 => 的',\n",
       " ('怎么今', '我真的不'): 'ADD 不',\n",
       " ('怎么今', '我真的不想'): 'ADD 想',\n",
       " ('怎么今', '我真的不想熬'): 'ADD 熬',\n",
       " ('怎么今', '我真的不想熬夜'): 'ADD 夜',\n",
       " ('怎么今', '我真的不想熬夜啊'): 'ADD 啊',\n",
       " ('怎么今', '我真的不想熬夜啊啊'): 'ADD 啊',\n",
       " ('怎么今', '我真的不想熬夜啊啊啊'): 'ADD 啊',\n",
       " ('怎么今', '我真的不想熬夜啊啊啊啊'): 'ADD 啊',\n",
       " ('怎么今天', '我'): 'DEL 天',\n",
       " ('怎么今天', '我真'): 'DEL 天',\n",
       " ('怎么今天', '我真的'): 'DEL 天',\n",
       " ('怎么今天', '我真的不'): 'SUB 天 => 不',\n",
       " ('怎么今天', '我真的不想'): 'ADD 想',\n",
       " ('怎么今天', '我真的不想熬'): 'ADD 熬',\n",
       " ('怎么今天', '我真的不想熬夜'): 'ADD 夜',\n",
       " ('怎么今天', '我真的不想熬夜啊'): 'ADD 啊',\n",
       " ('怎么今天', '我真的不想熬夜啊啊'): 'ADD 啊',\n",
       " ('怎么今天', '我真的不想熬夜啊啊啊'): 'ADD 啊',\n",
       " ('怎么今天', '我真的不想熬夜啊啊啊啊'): 'ADD 啊',\n",
       " ('怎么今天又', '我'): 'DEL 又',\n",
       " ('怎么今天又', '我真'): 'DEL 又',\n",
       " ('怎么今天又', '我真的'): 'DEL 又',\n",
       " ('怎么今天又', '我真的不'): 'DEL 又',\n",
       " ('怎么今天又', '我真的不想'): 'SUB 又 => 想',\n",
       " ('怎么今天又', '我真的不想熬'): 'ADD 熬',\n",
       " ('怎么今天又', '我真的不想熬夜'): 'ADD 夜',\n",
       " ('怎么今天又', '我真的不想熬夜啊'): 'ADD 啊',\n",
       " ('怎么今天又', '我真的不想熬夜啊啊'): 'ADD 啊',\n",
       " ('怎么今天又', '我真的不想熬夜啊啊啊'): 'ADD 啊',\n",
       " ('怎么今天又', '我真的不想熬夜啊啊啊啊'): 'ADD 啊',\n",
       " ('怎么今天又熬', '我'): 'DEL 熬',\n",
       " ('怎么今天又熬', '我真'): 'DEL 熬',\n",
       " ('怎么今天又熬', '我真的'): 'DEL 熬',\n",
       " ('怎么今天又熬', '我真的不'): 'DEL 熬',\n",
       " ('怎么今天又熬', '我真的不想'): 'DEL 熬',\n",
       " ('怎么今天又熬', '我真的不想熬'): '',\n",
       " ('怎么今天又熬', '我真的不想熬夜'): 'ADD 夜',\n",
       " ('怎么今天又熬', '我真的不想熬夜啊'): 'ADD 啊',\n",
       " ('怎么今天又熬', '我真的不想熬夜啊啊'): 'ADD 啊',\n",
       " ('怎么今天又熬', '我真的不想熬夜啊啊啊'): 'ADD 啊',\n",
       " ('怎么今天又熬', '我真的不想熬夜啊啊啊啊'): 'ADD 啊',\n",
       " ('怎么今天又熬夜', '我'): 'DEL 夜',\n",
       " ('怎么今天又熬夜', '我真'): 'DEL 夜',\n",
       " ('怎么今天又熬夜', '我真的'): 'DEL 夜',\n",
       " ('怎么今天又熬夜', '我真的不'): 'DEL 夜',\n",
       " ('怎么今天又熬夜', '我真的不想'): 'DEL 夜',\n",
       " ('怎么今天又熬夜', '我真的不想熬'): 'DEL 夜',\n",
       " ('怎么今天又熬夜', '我真的不想熬夜'): '',\n",
       " ('怎么今天又熬夜', '我真的不想熬夜啊'): 'ADD 啊',\n",
       " ('怎么今天又熬夜', '我真的不想熬夜啊啊'): 'ADD 啊',\n",
       " ('怎么今天又熬夜', '我真的不想熬夜啊啊啊'): 'ADD 啊',\n",
       " ('怎么今天又熬夜', '我真的不想熬夜啊啊啊啊'): 'ADD 啊',\n",
       " ('怎么今天又熬夜了', '我'): 'DEL 了',\n",
       " ('怎么今天又熬夜了', '我真'): 'DEL 了',\n",
       " ('怎么今天又熬夜了', '我真的'): 'DEL 了',\n",
       " ('怎么今天又熬夜了', '我真的不'): 'DEL 了',\n",
       " ('怎么今天又熬夜了', '我真的不想'): 'DEL 了',\n",
       " ('怎么今天又熬夜了', '我真的不想熬'): 'DEL 了',\n",
       " ('怎么今天又熬夜了', '我真的不想熬夜'): 'DEL 了',\n",
       " ('怎么今天又熬夜了', '我真的不想熬夜啊'): 'SUB 了 => 啊',\n",
       " ('怎么今天又熬夜了', '我真的不想熬夜啊啊'): 'ADD 啊',\n",
       " ('怎么今天又熬夜了', '我真的不想熬夜啊啊啊'): 'ADD 啊',\n",
       " ('怎么今天又熬夜了', '我真的不想熬夜啊啊啊啊'): 'ADD 啊'}"
      ]
     },
     "execution_count": 39,
     "metadata": {},
     "output_type": "execute_result"
    }
   ],
   "source": [
    "solution"
   ]
  },
  {
   "cell_type": "code",
   "execution_count": 40,
   "metadata": {},
   "outputs": [
    {
     "data": {
      "text/plain": [
       "['SUB 怎 => 我',\n",
       " 'SUB 么 => 真',\n",
       " 'SUB 今 => 的',\n",
       " 'SUB 天 => 不',\n",
       " 'SUB 又 => 想',\n",
       " 'SUB 了 => 啊',\n",
       " 'ADD 啊',\n",
       " 'ADD 啊',\n",
       " 'ADD 啊']"
      ]
     },
     "execution_count": 40,
     "metadata": {},
     "output_type": "execute_result"
    }
   ],
   "source": [
    "parse_solution('怎么今天又熬夜了', '我真的不想熬夜啊啊啊啊', solution)"
   ]
  },
  {
   "cell_type": "code",
   "execution_count": null,
   "metadata": {},
   "outputs": [],
   "source": []
  },
  {
   "cell_type": "code",
   "execution_count": null,
   "metadata": {},
   "outputs": [],
   "source": []
  }
 ],
 "metadata": {
  "kernelspec": {
   "display_name": "Python 3",
   "language": "python",
   "name": "python3"
  },
  "language_info": {
   "codemirror_mode": {
    "name": "ipython",
    "version": 3
   },
   "file_extension": ".py",
   "mimetype": "text/x-python",
   "name": "python",
   "nbconvert_exporter": "python",
   "pygments_lexer": "ipython3",
   "version": "3.7.0"
  },
  "latex_envs": {
   "LaTeX_envs_menu_present": true,
   "autoclose": false,
   "autocomplete": true,
   "bibliofile": "biblio.bib",
   "cite_by": "apalike",
   "current_citInitial": 1,
   "eqLabelWithNumbers": true,
   "eqNumInitial": 1,
   "hotkeys": {
    "equation": "Ctrl-E",
    "itemize": "Ctrl-I"
   },
   "labels_anchors": false,
   "latex_user_defs": false,
   "report_style_numbering": false,
   "user_envs_cfg": false
  }
 },
 "nbformat": 4,
 "nbformat_minor": 2
}
