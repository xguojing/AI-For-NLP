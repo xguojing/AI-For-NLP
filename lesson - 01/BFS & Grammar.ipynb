{
 "cells": [
  {
   "cell_type": "markdown",
   "metadata": {},
   "source": [
    " ## BFS"
   ]
  },
  {
   "cell_type": "code",
   "execution_count": 1,
   "metadata": {},
   "outputs": [],
   "source": [
    "import networkx as nx\n",
    "import random\n",
    "\n",
    "import matplotlib.pyplot as plt\n",
    "%matplotlib inline"
   ]
  },
  {
   "cell_type": "code",
   "execution_count": 2,
   "metadata": {},
   "outputs": [],
   "source": [
    "BEIJING, CHANGCHUN, MULUMUQI, WUHAN, GUNAGHZOU, SHENZHEN, BANGKOK, SHANGHAI, NEWYORK = \"\"\"\n",
    "BEIJING CHANGCHUN MULUMUQI WUHAN GUANGZHOU SHENZHEN BANGKOK SHANGHAI NEWYORK\n",
    "\"\"\".split()"
   ]
  },
  {
   "cell_type": "code",
   "execution_count": 3,
   "metadata": {},
   "outputs": [
    {
     "data": {
      "text/plain": [
       "{'CHANGCHUN': ['BEIJING'],\n",
       " 'MULUMUQI': ['BEIJING'],\n",
       " 'BEIJING': ['MULUMUQI', 'CHANGCHUN', 'WUHAN', 'SHENZHEN', 'NEWYORK'],\n",
       " 'NEWYORK': ['BEIJING', 'SHANGHAI'],\n",
       " 'SHANGHAI': ['NEWYORK', 'WUHAN'],\n",
       " 'WUHAN': ['SHANGHAI', 'BEIJING', 'GUANGZHOU'],\n",
       " 'GUANGZHOU': ['WUHAN', 'BANGKOK'],\n",
       " 'SHENZHEN': ['WUHAN', 'BANGKOK'],\n",
       " 'BANGKOK': ['SHENZHEN', 'GUANGZHOU']}"
      ]
     },
     "execution_count": 3,
     "metadata": {},
     "output_type": "execute_result"
    }
   ],
   "source": [
    "connection = {\n",
    "    CHANGCHUN: [BEIJING],\n",
    "    MULUMUQI: [BEIJING], \n",
    "    BEIJING: [MULUMUQI, CHANGCHUN, WUHAN, SHENZHEN, NEWYORK],\n",
    "    NEWYORK: [BEIJING, SHANGHAI],\n",
    "    SHANGHAI: [NEWYORK, WUHAN],\n",
    "    WUHAN: [SHANGHAI, BEIJING, GUNAGHZOU],\n",
    "    GUNAGHZOU: [WUHAN, BANGKOK],\n",
    "    SHENZHEN: [WUHAN, BANGKOK],\n",
    "    BANGKOK: [SHENZHEN, GUNAGHZOU]\n",
    "}\n",
    "connection"
   ]
  },
  {
   "cell_type": "code",
   "execution_count": 4,
   "metadata": {},
   "outputs": [
    {
     "data": {
      "image/png": "[encoded data removed]",
      "text/plain": [
       "<Figure size 432x288 with 1 Axes>"
      ]
     },
     "metadata": {},
     "output_type": "display_data"
    }
   ],
   "source": [
    "graph = nx.Graph(connection)\n",
    "nx.draw(graph)"
   ]
  },
  {
   "cell_type": "code",
   "execution_count": 5,
   "metadata": {},
   "outputs": [],
   "source": [
    "def nagivator_bfs(start, destination, graph):\n",
    "    pathes = [start]\n",
    "    seen = set()\n",
    "    while pathes:\n",
    "        froniter = pathes.pop(0)\n",
    "        if froniter in seen: continue\n",
    "        successors = graph[froniter]\n",
    "        print(\"Standing on {}, looking forward {}\".format(froniter, successors))\n",
    "        pathes.extend(successors)\n",
    "        seen.add(froniter)                "
   ]
  },
  {
   "cell_type": "code",
   "execution_count": 6,
   "metadata": {},
   "outputs": [
    {
     "name": "stdout",
     "output_type": "stream",
     "text": [
      "Standing on CHANGCHUN, looking forward ['BEIJING']\n",
      "Standing on BEIJING, looking forward ['MULUMUQI', 'CHANGCHUN', 'WUHAN', 'SHENZHEN', 'NEWYORK']\n",
      "Standing on MULUMUQI, looking forward ['BEIJING']\n",
      "Standing on WUHAN, looking forward ['SHANGHAI', 'BEIJING', 'GUANGZHOU']\n",
      "Standing on SHENZHEN, looking forward ['WUHAN', 'BANGKOK']\n",
      "Standing on NEWYORK, looking forward ['BEIJING', 'SHANGHAI']\n",
      "Standing on SHANGHAI, looking forward ['NEWYORK', 'WUHAN']\n",
      "Standing on GUANGZHOU, looking forward ['WUHAN', 'BANGKOK']\n",
      "Standing on BANGKOK, looking forward ['SHENZHEN', 'GUANGZHOU']\n"
     ]
    }
   ],
   "source": [
    "nagivator_bfs(CHANGCHUN, BANGKOK, connection)"
   ]
  },
  {
   "cell_type": "code",
   "execution_count": 7,
   "metadata": {},
   "outputs": [],
   "source": [
    "def nagivator(start, destination, graph):\n",
    "    pathes = [[start]]\n",
    "    seen = set()\n",
    "    while pathes:\n",
    "        path = pathes.pop(0)\n",
    "        froniter = path[-1]\n",
    "        if froniter in seen: continue\n",
    "        successors = graph[froniter]\n",
    "        print(\"Standing on {}, looking forward {}\".format(froniter, successors))\n",
    "        for s in successors:\n",
    "            if s is destination: \n",
    "                path.append(s)\n",
    "                return path\n",
    "            else:\n",
    "                pathes.append(path + [s])\n",
    "        pathes = sorted(pathes, key=len)\n",
    "        seen.add(froniter)        "
   ]
  },
  {
   "cell_type": "code",
   "execution_count": 8,
   "metadata": {},
   "outputs": [
    {
     "name": "stdout",
     "output_type": "stream",
     "text": [
      "Standing on CHANGCHUN, looking forward ['BEIJING']\n",
      "Standing on BEIJING, looking forward ['MULUMUQI', 'CHANGCHUN', 'WUHAN', 'SHENZHEN', 'NEWYORK']\n",
      "Standing on MULUMUQI, looking forward ['BEIJING']\n",
      "Standing on WUHAN, looking forward ['SHANGHAI', 'BEIJING', 'GUANGZHOU']\n",
      "Standing on SHENZHEN, looking forward ['WUHAN', 'BANGKOK']\n"
     ]
    },
    {
     "data": {
      "text/plain": [
       "['CHANGCHUN', 'BEIJING', 'SHENZHEN', 'BANGKOK']"
      ]
     },
     "execution_count": 8,
     "metadata": {},
     "output_type": "execute_result"
    }
   ],
   "source": [
    "nagivator(CHANGCHUN, BANGKOK, connection)"
   ]
  },
  {
   "cell_type": "code",
   "execution_count": 9,
   "metadata": {},
   "outputs": [],
   "source": [
    "def draw_route(routes):\n",
    "    print(' ✈ '.join(routes))"
   ]
  },
  {
   "cell_type": "code",
   "execution_count": 10,
   "metadata": {},
   "outputs": [
    {
     "name": "stdout",
     "output_type": "stream",
     "text": [
      "Standing on CHANGCHUN, looking forward ['BEIJING']\n",
      "Standing on BEIJING, looking forward ['MULUMUQI', 'CHANGCHUN', 'WUHAN', 'SHENZHEN', 'NEWYORK']\n",
      "Standing on MULUMUQI, looking forward ['BEIJING']\n",
      "Standing on WUHAN, looking forward ['SHANGHAI', 'BEIJING', 'GUANGZHOU']\n",
      "Standing on SHENZHEN, looking forward ['WUHAN', 'BANGKOK']\n",
      "CHANGCHUN ✈ BEIJING ✈ SHENZHEN ✈ BANGKOK\n"
     ]
    }
   ],
   "source": [
    "draw_route(nagivator(CHANGCHUN, BANGKOK, connection))"
   ]
  },
  {
   "cell_type": "markdown",
   "metadata": {},
   "source": [
    "----\n",
    "## Sentence Generation"
   ]
  },
  {
   "cell_type": "code",
   "execution_count": 11,
   "metadata": {},
   "outputs": [],
   "source": [
    "grammar = \"\"\"\n",
    "sentence => noun_phrase verb_phrase \n",
    "noun_phrase => Article Adj* noun\n",
    "Adj* => null | Adj Adj*\n",
    "verb_phrase => verb noun_phrase\n",
    "Article =>  一个 | 这个\n",
    "noun =>   女人 |  篮球 | 桌子 | 小猫\n",
    "verb => 看着   |  坐在 |  听着 | 看见\n",
    "Adj =>   蓝色的 |  好看的 | 小小的\n",
    "\"\"\""
   ]
  },
  {
   "cell_type": "code",
   "execution_count": 12,
   "metadata": {},
   "outputs": [],
   "source": [
    "def parse_grammar(grammar_str, seq = '=>'):\n",
    "    grammar = {}\n",
    "    for line in grammar_str.strip().split('\\n'):\n",
    "        line = line.strip()\n",
    "        if line is None: continue\n",
    "        target, rules = line.split(seq)\n",
    "        grammar[target.strip()] = [r.split() for r in rules.split('|')]\n",
    "    return grammar"
   ]
  },
  {
   "cell_type": "code",
   "execution_count": 13,
   "metadata": {},
   "outputs": [
    {
     "data": {
      "text/plain": [
       "{'sentence': [['noun_phrase', 'verb_phrase']],\n",
       " 'noun_phrase': [['Article', 'Adj*', 'noun']],\n",
       " 'Adj*': [['null'], ['Adj', 'Adj*']],\n",
       " 'verb_phrase': [['verb', 'noun_phrase']],\n",
       " 'Article': [['一个'], ['这个']],\n",
       " 'noun': [['女人'], ['篮球'], ['桌子'], ['小猫']],\n",
       " 'verb': [['看着'], ['坐在'], ['听着'], ['看见']],\n",
       " 'Adj': [['蓝色的'], ['好看的'], ['小小的']]}"
      ]
     },
     "execution_count": 13,
     "metadata": {},
     "output_type": "execute_result"
    }
   ],
   "source": [
    "grammar = parse_grammar(grammar)\n",
    "grammar"
   ]
  },
  {
   "cell_type": "code",
   "execution_count": 14,
   "metadata": {},
   "outputs": [],
   "source": [
    "def generate(grammar, target='sentence'):\n",
    "    if target not in grammar: return target\n",
    "    rules = random.choice(grammar[target])\n",
    "    return ''.join(generate(grammar, target=r) for r in rules if r != 'null')"
   ]
  },
  {
   "cell_type": "code",
   "execution_count": 15,
   "metadata": {},
   "outputs": [
    {
     "data": {
      "text/plain": [
       "'一个桌子看见一个女人'"
      ]
     },
     "execution_count": 15,
     "metadata": {},
     "output_type": "execute_result"
    }
   ],
   "source": [
    "generate(grammar)"
   ]
  },
  {
   "cell_type": "code",
   "execution_count": null,
   "metadata": {},
   "outputs": [],
   "source": []
  }
 ],
 "metadata": {
  "kernelspec": {
   "display_name": "Python 3",
   "language": "python",
   "name": "python3"
  },
  "language_info": {
   "codemirror_mode": {
    "name": "ipython",
    "version": 3
   },
   "file_extension": ".py",
   "mimetype": "text/x-python",
   "name": "python",
   "nbconvert_exporter": "python",
   "pygments_lexer": "ipython3",
   "version": "3.7.0"
  },
  "latex_envs": {
   "LaTeX_envs_menu_present": true,
   "autoclose": false,
   "autocomplete": true,
   "bibliofile": "biblio.bib",
   "cite_by": "apalike",
   "current_citInitial": 1,
   "eqLabelWithNumbers": true,
   "eqNumInitial": 1,
   "hotkeys": {
    "equation": "Ctrl-E",
    "itemize": "Ctrl-I"
   },
   "labels_anchors": false,
   "latex_user_defs": false,
   "report_style_numbering": false,
   "user_envs_cfg": false
  }
 },
 "nbformat": 4,
 "nbformat_minor": 2
}
